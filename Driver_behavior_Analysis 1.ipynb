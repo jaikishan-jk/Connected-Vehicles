{
  "cells": [
    {
      "cell_type": "code",
      "execution_count": 2,
      "metadata": {
        "id": "wGK8iiJh6V15"
      },
      "outputs": [],
      "source": [
        "import pandas as pd\n",
        "import numpy as np\n",
        "from sklearn.preprocessing import LabelEncoder\n",
        "from sklearn.model_selection import train_test_split, cross_val_score, GridSearchCV\n",
        "from sklearn.svm import SVC\n",
        "from sklearn.metrics import accuracy_score, classification_report"
      ]
    },
    {
      "cell_type": "code",
      "execution_count": 3,
      "metadata": {
        "id": "-qdUclk36V4N"
      },
      "outputs": [],
      "source": [
        "# Load the dataset\n",
        "df = pd.read_csv('Fuel_Efficiency_Updated.csv')\n",
        "\n",
        "# Function to determine driving style\n",
        "def determine_driving_style(row):\n",
        "    if (row['Average_Speed_kmh'] > 130 or\n",
        "        row['Acceleration_Pattern'] == 'aggressive' or\n",
        "        row['Braking_Pattern'] == 'hard' or\n",
        "        row['Traffic_Violations'] > 4):\n",
        "        return 'aggressive'\n",
        "    elif (row['Average_Speed_kmh'] < 60 or\n",
        "          row['Acceleration_Pattern'] == 'conservative' or\n",
        "          row['Braking_Pattern'] == 'gentle' or\n",
        "          row['Traffic_Violations'] <= 2):\n",
        "        return 'conservative'\n",
        "    else:\n",
        "        return 'moderate'"
      ]
    },
    {
      "cell_type": "code",
      "execution_count": 4,
      "metadata": {
        "id": "prvuCcjW6V6i"
      },
      "outputs": [],
      "source": [
        "# Apply the function to each row\n",
        "df['Driving_Style'] = df.apply(determine_driving_style, axis=1)\n",
        "\n",
        "# Select required columns\n",
        "df = df[['Driving_Duration_hrs', 'Average_Speed_kmh', 'Acceleration_Pattern',\n",
        "         'Braking_Pattern', 'Driving_Style', 'Safety_Features_Usage',\n",
        "         'Traffic_Violations']].copy()"
      ]
    },
    {
      "cell_type": "code",
      "execution_count": 5,
      "metadata": {
        "id": "FDAxQUgM6V-I"
      },
      "outputs": [],
      "source": [
        "# Convert categorical variables to numerical\n",
        "le = LabelEncoder()\n",
        "for column in ['Acceleration_Pattern', 'Braking_Pattern', 'Driving_Style', 'Safety_Features_Usage']:\n",
        "    df[column] = le.fit_transform(df[column])"
      ]
    },
    {
      "cell_type": "code",
      "execution_count": 6,
      "metadata": {
        "id": "gsWqLerIA474"
      },
      "outputs": [],
      "source": [
        "# Split data into features (X) and target (y)\n",
        "X = df.drop('Driving_Style', axis=1)\n",
        "y = df['Driving_Style']\n",
        "\n",
        "# Split data into training and testing sets\n",
        "X_train, X_test, y_train, y_test = train_test_split(X, y, test_size=0.2, random_state=42)"
      ]
    },
    {
      "cell_type": "code",
      "execution_count": 7,
      "metadata": {
        "colab": {
          "base_uri": "https://localhost:8080/"
        },
        "id": "IjfWyBq5A5A-",
        "outputId": "224142a0-b642-492e-b4be-4dcc242f2392"
      },
      "outputs": [
        {
          "name": "stdout",
          "output_type": "stream",
          "text": [
            "Best parameters: {'C': 10}\n",
            "Best cross-validation score: 0.8915507328846418\n"
          ]
        }
      ],
      "source": [
        "# Perform GridSearchCV to find the best C value\n",
        "param_grid = {'C': [1, 2, 3, 4, 5, 6, 7, 8, 9, 10]}\n",
        "grid_search = GridSearchCV(SVC(kernel='rbf', gamma='scale'), param_grid, cv=10)\n",
        "grid_search.fit(X, y)\n",
        "best_params = grid_search.best_params_\n",
        "best_score = grid_search.best_score_\n",
        "\n",
        "print(\"Best parameters:\", best_params)\n",
        "print(\"Best cross-validation score:\", best_score)"
      ]
    },
    {
      "cell_type": "code",
      "execution_count": 8,
      "metadata": {
        "colab": {
          "base_uri": "https://localhost:8080/",
          "height": 74
        },
        "id": "pxLjmJ_DA5Dw",
        "outputId": "bccac56d-ffe3-4475-f90f-29599030fd5d"
      },
      "outputs": [
        {
          "data": {
            "text/html": [
              "<style>#sk-container-id-1 {color: black;background-color: white;}#sk-container-id-1 pre{padding: 0;}#sk-container-id-1 div.sk-toggleable {background-color: white;}#sk-container-id-1 label.sk-toggleable__label {cursor: pointer;display: block;width: 100%;margin-bottom: 0;padding: 0.3em;box-sizing: border-box;text-align: center;}#sk-container-id-1 label.sk-toggleable__label-arrow:before {content: \"▸\";float: left;margin-right: 0.25em;color: #696969;}#sk-container-id-1 label.sk-toggleable__label-arrow:hover:before {color: black;}#sk-container-id-1 div.sk-estimator:hover label.sk-toggleable__label-arrow:before {color: black;}#sk-container-id-1 div.sk-toggleable__content {max-height: 0;max-width: 0;overflow: hidden;text-align: left;background-color: #f0f8ff;}#sk-container-id-1 div.sk-toggleable__content pre {margin: 0.2em;color: black;border-radius: 0.25em;background-color: #f0f8ff;}#sk-container-id-1 input.sk-toggleable__control:checked~div.sk-toggleable__content {max-height: 200px;max-width: 100%;overflow: auto;}#sk-container-id-1 input.sk-toggleable__control:checked~label.sk-toggleable__label-arrow:before {content: \"▾\";}#sk-container-id-1 div.sk-estimator input.sk-toggleable__control:checked~label.sk-toggleable__label {background-color: #d4ebff;}#sk-container-id-1 div.sk-label input.sk-toggleable__control:checked~label.sk-toggleable__label {background-color: #d4ebff;}#sk-container-id-1 input.sk-hidden--visually {border: 0;clip: rect(1px 1px 1px 1px);clip: rect(1px, 1px, 1px, 1px);height: 1px;margin: -1px;overflow: hidden;padding: 0;position: absolute;width: 1px;}#sk-container-id-1 div.sk-estimator {font-family: monospace;background-color: #f0f8ff;border: 1px dotted black;border-radius: 0.25em;box-sizing: border-box;margin-bottom: 0.5em;}#sk-container-id-1 div.sk-estimator:hover {background-color: #d4ebff;}#sk-container-id-1 div.sk-parallel-item::after {content: \"\";width: 100%;border-bottom: 1px solid gray;flex-grow: 1;}#sk-container-id-1 div.sk-label:hover label.sk-toggleable__label {background-color: #d4ebff;}#sk-container-id-1 div.sk-serial::before {content: \"\";position: absolute;border-left: 1px solid gray;box-sizing: border-box;top: 0;bottom: 0;left: 50%;z-index: 0;}#sk-container-id-1 div.sk-serial {display: flex;flex-direction: column;align-items: center;background-color: white;padding-right: 0.2em;padding-left: 0.2em;position: relative;}#sk-container-id-1 div.sk-item {position: relative;z-index: 1;}#sk-container-id-1 div.sk-parallel {display: flex;align-items: stretch;justify-content: center;background-color: white;position: relative;}#sk-container-id-1 div.sk-item::before, #sk-container-id-1 div.sk-parallel-item::before {content: \"\";position: absolute;border-left: 1px solid gray;box-sizing: border-box;top: 0;bottom: 0;left: 50%;z-index: -1;}#sk-container-id-1 div.sk-parallel-item {display: flex;flex-direction: column;z-index: 1;position: relative;background-color: white;}#sk-container-id-1 div.sk-parallel-item:first-child::after {align-self: flex-end;width: 50%;}#sk-container-id-1 div.sk-parallel-item:last-child::after {align-self: flex-start;width: 50%;}#sk-container-id-1 div.sk-parallel-item:only-child::after {width: 0;}#sk-container-id-1 div.sk-dashed-wrapped {border: 1px dashed gray;margin: 0 0.4em 0.5em 0.4em;box-sizing: border-box;padding-bottom: 0.4em;background-color: white;}#sk-container-id-1 div.sk-label label {font-family: monospace;font-weight: bold;display: inline-block;line-height: 1.2em;}#sk-container-id-1 div.sk-label-container {text-align: center;}#sk-container-id-1 div.sk-container {/* jupyter's `normalize.less` sets `[hidden] { display: none; }` but bootstrap.min.css set `[hidden] { display: none !important; }` so we also need the `!important` here to be able to override the default hidden behavior on the sphinx rendered scikit-learn.org. See: https://github.com/scikit-learn/scikit-learn/issues/21755 */display: inline-block !important;position: relative;}#sk-container-id-1 div.sk-text-repr-fallback {display: none;}</style><div id=\"sk-container-id-1\" class=\"sk-top-container\"><div class=\"sk-text-repr-fallback\"><pre>SVC(C=10)</pre><b>In a Jupyter environment, please rerun this cell to show the HTML representation or trust the notebook. <br />On GitHub, the HTML representation is unable to render, please try loading this page with nbviewer.org.</b></div><div class=\"sk-container\" hidden><div class=\"sk-item\"><div class=\"sk-estimator sk-toggleable\"><input class=\"sk-toggleable__control sk-hidden--visually\" id=\"sk-estimator-id-1\" type=\"checkbox\" checked><label for=\"sk-estimator-id-1\" class=\"sk-toggleable__label sk-toggleable__label-arrow\">SVC</label><div class=\"sk-toggleable__content\"><pre>SVC(C=10)</pre></div></div></div></div></div>"
            ],
            "text/plain": [
              "SVC(C=10)"
            ]
          },
          "execution_count": 8,
          "metadata": {},
          "output_type": "execute_result"
        }
      ],
      "source": [
        "# Define the SVM model with the best parameters\n",
        "svm_model = SVC(kernel='rbf', C=best_params['C'], gamma='scale')\n",
        "svm_model.fit(X_train, y_train)"
      ]
    },
    {
      "cell_type": "code",
      "execution_count": 9,
      "metadata": {
        "colab": {
          "base_uri": "https://localhost:8080/"
        },
        "id": "Yzl_WCC8A5HR",
        "outputId": "869cea0b-0945-4750-94ce-1e72de6f7f86"
      },
      "outputs": [
        {
          "name": "stdout",
          "output_type": "stream",
          "text": [
            "Training Accuracy: 0.8821250691754289\n",
            "Validation Accuracy: 0.8860619469026548\n"
          ]
        }
      ],
      "source": [
        "# Evaluate the model on training and testing sets\n",
        "train_accuracy = svm_model.score(X_train, y_train)\n",
        "test_accuracy = svm_model.score(X_test, y_test)\n",
        "print(\"Training Accuracy:\", train_accuracy)\n",
        "print(\"Validation Accuracy:\", test_accuracy)"
      ]
    },
    {
      "cell_type": "code",
      "execution_count": 10,
      "metadata": {
        "colab": {
          "base_uri": "https://localhost:8080/"
        },
        "id": "gs4etJEUBECU",
        "outputId": "7905fb85-adcb-46e5-ee08-22e708433bda"
      },
      "outputs": [
        {
          "name": "stdout",
          "output_type": "stream",
          "text": [
            "Cross-validation scores: [0.90265487 0.86061947 0.87168142 0.8960177  0.88716814 0.86061947\n",
            " 0.92035398 0.90707965 0.89800443 0.9113082 ]\n",
            "Mean cross-validation score: 0.8915507328846418\n"
          ]
        }
      ],
      "source": [
        "# Perform cross-validation with the best parameters\n",
        "cross_val_scores = cross_val_score(svm_model, X, y, cv=10)\n",
        "print(\"Cross-validation scores:\", cross_val_scores)\n",
        "print(\"Mean cross-validation score:\", cross_val_scores.mean())"
      ]
    },
    {
      "cell_type": "code",
      "execution_count": 11,
      "metadata": {
        "colab": {
          "base_uri": "https://localhost:8080/"
        },
        "id": "GKiD4xW0BEEa",
        "outputId": "4c6a41b3-ed38-421a-dab1-7e8805b5669e"
      },
      "outputs": [
        {
          "name": "stdout",
          "output_type": "stream",
          "text": [
            "Classification Report:\n",
            "              precision    recall  f1-score   support\n",
            "\n",
            "           0       0.85      0.85      0.85       288\n",
            "           1       0.96      0.96      0.96       414\n",
            "           2       0.79      0.79      0.79       202\n",
            "\n",
            "    accuracy                           0.89       904\n",
            "   macro avg       0.87      0.87      0.87       904\n",
            "weighted avg       0.89      0.89      0.89       904\n",
            "\n"
          ]
        }
      ],
      "source": [
        "# Classification report\n",
        "y_pred = svm_model.predict(X_test)\n",
        "print(\"Classification Report:\")\n",
        "print(classification_report(y_test, y_pred))"
      ]
    },
    {
      "cell_type": "code",
      "execution_count": 12,
      "metadata": {
        "id": "0030ZnJxBEGS"
      },
      "outputs": [],
      "source": [
        "# Function to map numerical labels back to driving style names\n",
        "def get_driving_style_label(label):\n",
        "    driving_styles = {0: 'aggressive', 1: 'Conservative', 2: 'moderate'}\n",
        "    return driving_styles.get(label, \"Unknown\")"
      ]
    },
    {
      "cell_type": "code",
      "execution_count": 13,
      "metadata": {
        "colab": {
          "base_uri": "https://localhost:8080/"
        },
        "id": "Bf9iXN7rBEJn",
        "outputId": "72979bd3-ffee-4944-d553-c8d0bceabc56"
      },
      "outputs": [],
      "source": [
        "# # Input new data for prediction\n",
        "# print(\"Enter the values for the features:\")\n",
        "# Driving_Duration_hrs = float(input(\"Driving Duration (hours): \"))\n",
        "# Average_Speed_kmh = float(input(\"Average Speed (km/h): \"))\n",
        "# Acceleration_Pattern = int(input(\"Acceleration Pattern (0: Conservative, 1: Moderate, 2: Aggressive): \"))\n",
        "# Braking_Pattern = int(input(\"Braking Pattern (0: Gentle, 1: Normal, 2: Hard): \"))\n",
        "# Safety_Features_Usage = int(input(\"Safety Features Usage (0: No, 1: Yes): \"))\n",
        "# Traffic_Violations = int(input(\"Traffic Violations (0 to 5): \"))\n",
        "\n",
        "# # Create a new input DataFrame\n",
        "# new_input_df = pd.DataFrame({\n",
        "#     'Driving_Duration_hrs': [Driving_Duration_hrs],\n",
        "#     'Average_Speed_kmh': [Average_Speed_kmh],\n",
        "#     'Acceleration_Pattern': [Acceleration_Pattern],\n",
        "#     'Braking_Pattern': [Braking_Pattern],\n",
        "#     'Safety_Features_Usage': [Safety_Features_Usage],\n",
        "#     'Traffic_Violations': [Traffic_Violations]\n",
        "# })\n",
        "\n",
        "# # Make prediction\n",
        "# prediction = svm_model.predict(new_input_df)\n",
        "\n",
        "# # Print the predicted driving style\n",
        "# predicted_driving_style_label = get_driving_style_label(prediction[0])\n",
        "# print(\"Predicted Driving Style:\", predicted_driving_style_label)"
      ]
    },
    {
      "cell_type": "code",
      "execution_count": 14,
      "metadata": {
        "id": "LrgGi7MCehCE"
      },
      "outputs": [],
      "source": [
        "import pickle\n",
        "with open('svm_model.pkl', 'wb') as f:\n",
        "    pickle.dump(svm_model, f)\n",
        " "
      ]
    },
    {
      "cell_type": "code",
      "execution_count": null,
      "metadata": {
        "id": "_coEpSr3ehFV"
      },
      "outputs": [],
      "source": []
    }
  ],
  "metadata": {
    "colab": {
      "provenance": []
    },
    "kernelspec": {
      "display_name": "Python 3",
      "name": "python3"
    },
    "language_info": {
      "codemirror_mode": {
        "name": "ipython",
        "version": 3
      },
      "file_extension": ".py",
      "mimetype": "text/x-python",
      "name": "python",
      "nbconvert_exporter": "python",
      "pygments_lexer": "ipython3",
      "version": "3.11.7"
    }
  },
  "nbformat": 4,
  "nbformat_minor": 0
}
